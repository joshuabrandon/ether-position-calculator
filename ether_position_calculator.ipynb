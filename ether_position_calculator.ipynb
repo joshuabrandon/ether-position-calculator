{
 "cells": [
  {
   "cell_type": "code",
   "execution_count": null,
   "metadata": {},
   "outputs": [],
   "source": [
    "# Import packages\n",
    "\n",
    "import pandas as pd\n",
    "import urllib.request, json"
   ]
  },
  {
   "cell_type": "code",
   "execution_count": null,
   "metadata": {},
   "outputs": [],
   "source": [
    "# Etherscan API call\n",
    "# Powered by Etherscan.io APIs\n",
    "\n",
    "def es_data(es_address, es_key):\n",
    "    \"\"\" Pulls Ether balance from a specified address (es_address) using the Etherscan API. Requires a user-specific API key (es_key) \"\"\"\n",
    "    \n",
    "    es_url = \"https://api.etherscan.io/api?module=account&action=balance&address=%s&tag=latest&apikey=%s\" % (es_address, es_key)\n",
    "    with urllib.request.urlopen(es_url) as url:\n",
    "        output = json.loads(url.read().decode())\n",
    "    return output"
   ]
  },
  {
   "cell_type": "code",
   "execution_count": null,
   "metadata": {},
   "outputs": [],
   "source": [
    "# CoinMarketCap API call\n",
    "# Powered by CoinMarketCap APIs\n",
    "\n",
    "def cmc_data(cmc_key):\n",
    "    \"\"\" Pulls Ether price information \"\"\"\n",
    "    \n",
    "    cmc_url = \"https://pro-api.coinmarketcap.com/v1/cryptocurrency/quotes/latest?symbol=ETH&convert=CAD&CMC_PRO_API_KEY=%s\" % (cmc_key)\n",
    "    with urllib.request.urlopen(cmc_url) as url:\n",
    "        output = json.loads(url.read().decode())\n",
    "    return output"
   ]
  },
  {
   "cell_type": "code",
   "execution_count": null,
   "metadata": {},
   "outputs": [],
   "source": [
    "# Get quantity of ETH held by specified address\n",
    "\n",
    "def get_quantity():\n",
    "    \"\"\" Returns the ETH balance of address from Etherscan \"\"\"\n",
    "    \n",
    "    try:\n",
    "        if int(es_output[\"status\"]) != 1:\n",
    "            raise ValueError(\"Error: API call was unsuccessful. Message: {}\".format(es_output[\"message\"]))\n",
    "    except ValueError as ve:\n",
    "        quantity = \"Error\"\n",
    "        print(ve)\n",
    "    else:\n",
    "        quantity = float(es_output[\"result\"]) / 1.0e18\n",
    "    return quantity"
   ]
  },
  {
   "cell_type": "code",
   "execution_count": null,
   "metadata": {},
   "outputs": [],
   "source": [
    "# Get latest price and update time for ETH\n",
    "\n",
    "def get_price_info():\n",
    "    \"\"\" Returns the latest ETH price and the time the price was last updated \"\"\"\n",
    "    \n",
    "    try:\n",
    "        if int(cmc_output[\"status\"][\"error_code\"]) != 0:\n",
    "            raise ValueError(\"Error: API call was unsuccessful. Message: {}\".format(cmc_output[\"status\"][\"error_message\"]))\n",
    "    except ValueError as ve:\n",
    "        price = \"Error\"\n",
    "        updated_time = \"Error\"\n",
    "        print(ve)\n",
    "    else:\n",
    "        price = float(cmc_output[\"data\"][\"ETH\"][\"quote\"][\"CAD\"][\"price\"])\n",
    "        update_time = cmc_output[\"data\"][\"ETH\"][\"quote\"][\"CAD\"][\"last_updated\"] \n",
    "    return (price, update_time)"
   ]
  },
  {
   "cell_type": "code",
   "execution_count": null,
   "metadata": {},
   "outputs": [],
   "source": [
    "# Calculate value of ETH holding\n",
    "\n",
    "def holding_value(quantity, price):\n",
    "    \"\"\" Calculates the dollar value of ETH position based on quantity and price \"\"\"\n",
    "    \n",
    "    holding_value = round(quantity * price, 2)\n",
    "    return holding_value"
   ]
  },
  {
   "cell_type": "code",
   "execution_count": null,
   "metadata": {},
   "outputs": [],
   "source": [
    "# Create DataFrame to be exported to Excel spreadsheet\n",
    "\n",
    "def create_df():\n",
    "    \"\"\" Creates a DataFrame with holding data \"\"\"\n",
    "    \n",
    "    df = pd.DataFrame({\"Symbol\":cmc_output[\"data\"][\"ETH\"][\"symbol\"],\n",
    "                       \"Quantity\":quantity,\n",
    "                       \"Price\":price,\n",
    "                       \"Value\":holding_value\n",
    "                      }, index=[update_time])\n",
    "    return df"
   ]
  },
  {
   "cell_type": "code",
   "execution_count": null,
   "metadata": {},
   "outputs": [],
   "source": [
    "# Append DataFrame result to CSV\n",
    "\n",
    "def df_to_csv(df):\n",
    "    \"\"\" Append DataFrame to CSV \"\"\"\n",
    "    \n",
    "    file_name = \"output.csv\"\n",
    "    with open(file_name, \"a\") as f:\n",
    "        df.to_csv(f, header=False)"
   ]
  },
  {
   "cell_type": "code",
   "execution_count": null,
   "metadata": {},
   "outputs": [],
   "source": [
    "# Run the code\n",
    "\n",
    "es_address = input(\"EtherScan Address: \")\n",
    "es_key = input(\"EtherScan API key: \")\n",
    "cmc_key = input(\"CoinMarketCap API key: \")\n",
    "\n",
    "es_output = es_data(es_address, es_key)\n",
    "cmc_output = cmc_data(cmc_key)\n",
    "\n",
    "quantity = get_quantity()\n",
    "price, update_time = get_price_info()\n",
    "holding_value = holding_value(quantity, price)\n",
    "\n",
    "df = create_df()\n",
    "df_to_csv(df)"
   ]
  }
 ],
 "metadata": {
  "kernelspec": {
   "display_name": "Python 3",
   "language": "python",
   "name": "python3"
  },
  "language_info": {
   "codemirror_mode": {
    "name": "ipython",
    "version": 3
   },
   "file_extension": ".py",
   "mimetype": "text/x-python",
   "name": "python",
   "nbconvert_exporter": "python",
   "pygments_lexer": "ipython3",
   "version": "3.7.0"
  }
 },
 "nbformat": 4,
 "nbformat_minor": 2
}
